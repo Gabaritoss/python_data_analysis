{
 "cells": [
  {
   "cell_type": "code",
   "execution_count": 1,
   "metadata": {},
   "outputs": [],
   "source": [
    "import pandas as pd"
   ]
  },
  {
   "cell_type": "code",
   "execution_count": 2,
   "metadata": {},
   "outputs": [],
   "source": [
    "df = pd.read_parquet(\"dataset_mod_interm_csgo_round.parquet\")"
   ]
  },
  {
   "cell_type": "markdown",
   "metadata": {},
   "source": [
    "### Tratamento de dados nulos"
   ]
  },
  {
   "cell_type": "code",
   "execution_count": 4,
   "metadata": {},
   "outputs": [],
   "source": [
    "# criar um dataframe paraa indentificar e tratar dados nulos\n",
    "\n",
    "# encontra os valores nulos soma eles e cria um DataFrame com essas informação\n",
    "# depois transforma o index em uma coluna individual com o reset_index()\n",
    "\n",
    "df_nan = pd.DataFrame(df.isna().sum()).reset_index()\n",
    "df_nan = df_nan.rename(columns= {0:'total_nan','index':'coluna'}) # renomeia as colunas para facilitar a interpretação"
   ]
  },
  {
   "cell_type": "code",
   "execution_count": 5,
   "metadata": {},
   "outputs": [
    {
     "data": {
      "text/html": [
       "<div>\n",
       "<style scoped>\n",
       "    .dataframe tbody tr th:only-of-type {\n",
       "        vertical-align: middle;\n",
       "    }\n",
       "\n",
       "    .dataframe tbody tr th {\n",
       "        vertical-align: top;\n",
       "    }\n",
       "\n",
       "    .dataframe thead th {\n",
       "        text-align: right;\n",
       "    }\n",
       "</style>\n",
       "<table border=\"1\" class=\"dataframe\">\n",
       "  <thead>\n",
       "    <tr style=\"text-align: right;\">\n",
       "      <th></th>\n",
       "      <th>coluna</th>\n",
       "      <th>total_nan</th>\n",
       "    </tr>\n",
       "  </thead>\n",
       "  <tbody>\n",
       "  </tbody>\n",
       "</table>\n",
       "</div>"
      ],
      "text/plain": [
       "Empty DataFrame\n",
       "Columns: [coluna, total_nan]\n",
       "Index: []"
      ]
     },
     "execution_count": 5,
     "metadata": {},
     "output_type": "execute_result"
    }
   ],
   "source": [
    "df_nan[df_nan.total_nan > 0] # busca os valores nulos, filtrando apenas o que é maior que 0"
   ]
  },
  {
   "cell_type": "markdown",
   "metadata": {},
   "source": [
    "### Tratamento das variaveis"
   ]
  },
  {
   "cell_type": "code",
   "execution_count": 6,
   "metadata": {},
   "outputs": [],
   "source": [
    "# identificar o tipo de variavel\n",
    "variaveis = df.dtypes.reset_index().rename(columns= {0:'tipo','index':'coluna'})\n",
    "\n",
    "# separar variaveis categoricas e numericas\n",
    "\n",
    "variaveis_continuas = variaveis[variaveis.tipo != 'object'] # separar apenas variaveis NAO categoricas (not object)\n",
    "variaveis_categoricas = variaveis[variaveis.tipo == 'object'] # separar apenas variaveis categoricas (object)"
   ]
  },
  {
   "cell_type": "markdown",
   "metadata": {},
   "source": [
    "#### variaveis continuas"
   ]
  },
  {
   "cell_type": "code",
   "execution_count": 7,
   "metadata": {},
   "outputs": [
    {
     "data": {
      "text/plain": [
       "array([dtype('float64'), dtype('bool')], dtype=object)"
      ]
     },
     "execution_count": 7,
     "metadata": {},
     "output_type": "execute_result"
    }
   ],
   "source": [
    "variaveis_continuas.tipo.unique()"
   ]
  },
  {
   "cell_type": "code",
   "execution_count": 8,
   "metadata": {},
   "outputs": [
    {
     "data": {
      "text/html": [
       "<div>\n",
       "<style scoped>\n",
       "    .dataframe tbody tr th:only-of-type {\n",
       "        vertical-align: middle;\n",
       "    }\n",
       "\n",
       "    .dataframe tbody tr th {\n",
       "        vertical-align: top;\n",
       "    }\n",
       "\n",
       "    .dataframe thead th {\n",
       "        text-align: right;\n",
       "    }\n",
       "</style>\n",
       "<table border=\"1\" class=\"dataframe\">\n",
       "  <thead>\n",
       "    <tr style=\"text-align: right;\">\n",
       "      <th></th>\n",
       "      <th>coluna</th>\n",
       "      <th>tipo</th>\n",
       "    </tr>\n",
       "  </thead>\n",
       "  <tbody>\n",
       "    <tr>\n",
       "      <th>4</th>\n",
       "      <td>bomb_planted</td>\n",
       "      <td>bool</td>\n",
       "    </tr>\n",
       "  </tbody>\n",
       "</table>\n",
       "</div>"
      ],
      "text/plain": [
       "         coluna  tipo\n",
       "4  bomb_planted  bool"
      ]
     },
     "execution_count": 8,
     "metadata": {},
     "output_type": "execute_result"
    }
   ],
   "source": [
    "# variaveis booleanas precisam ser convertidas em numerica, ou seja, 0 ou 1\n",
    "\n",
    "variaveis_continuas[variaveis_continuas.tipo == 'bool']"
   ]
  },
  {
   "cell_type": "code",
   "execution_count": 9,
   "metadata": {},
   "outputs": [],
   "source": [
    "# converte os valores na coluna bomb planted de True e False para 1 ou 0\n",
    "\n",
    "df.bomb_planted = df.bomb_planted.astype(int)"
   ]
  },
  {
   "cell_type": "markdown",
   "metadata": {},
   "source": [
    "### tratamento das variaveis categoricas"
   ]
  },
  {
   "cell_type": "code",
   "execution_count": 10,
   "metadata": {},
   "outputs": [
    {
     "data": {
      "text/html": [
       "<div>\n",
       "<style scoped>\n",
       "    .dataframe tbody tr th:only-of-type {\n",
       "        vertical-align: middle;\n",
       "    }\n",
       "\n",
       "    .dataframe tbody tr th {\n",
       "        vertical-align: top;\n",
       "    }\n",
       "\n",
       "    .dataframe thead th {\n",
       "        text-align: right;\n",
       "    }\n",
       "</style>\n",
       "<table border=\"1\" class=\"dataframe\">\n",
       "  <thead>\n",
       "    <tr style=\"text-align: right;\">\n",
       "      <th></th>\n",
       "      <th>coluna</th>\n",
       "      <th>tipo</th>\n",
       "    </tr>\n",
       "  </thead>\n",
       "  <tbody>\n",
       "    <tr>\n",
       "      <th>3</th>\n",
       "      <td>map</td>\n",
       "      <td>object</td>\n",
       "    </tr>\n",
       "    <tr>\n",
       "      <th>96</th>\n",
       "      <td>round_winner</td>\n",
       "      <td>object</td>\n",
       "    </tr>\n",
       "  </tbody>\n",
       "</table>\n",
       "</div>"
      ],
      "text/plain": [
       "          coluna    tipo\n",
       "3            map  object\n",
       "96  round_winner  object"
      ]
     },
     "execution_count": 10,
     "metadata": {},
     "output_type": "execute_result"
    }
   ],
   "source": [
    "variaveis_categoricas # apenas map (nome do mapa) e round winner são variaveis categoricas"
   ]
  },
  {
   "cell_type": "code",
   "execution_count": 11,
   "metadata": {},
   "outputs": [],
   "source": [
    "# importar bibliotecas necessarias\n",
    "\n",
    "from sklearn.preprocessing import LabelEncoder, StandardScaler\n",
    "from sklearn.model_selection import train_test_split"
   ]
  },
  {
   "cell_type": "code",
   "execution_count": 12,
   "metadata": {},
   "outputs": [],
   "source": [
    "le = LabelEncoder() # estanciar o label encoder\n",
    "\n",
    "# loop para iterar sobre cada coluna categorica i do dataframe (apenas as variaveis categoricas, delimitado pelo variaveis_categoricas.coluna) \n",
    "# e criar uma nova coluna de nome i_encoded que é i transformado por LabelEncoder\n",
    "\n",
    "for i in variaveis_categoricas.coluna:\n",
    "    df[str(i) + '_encoded'] = le.fit_transform(df[i])"
   ]
  },
  {
   "cell_type": "code",
   "execution_count": 13,
   "metadata": {},
   "outputs": [
    {
     "data": {
      "text/html": [
       "<div>\n",
       "<style scoped>\n",
       "    .dataframe tbody tr th:only-of-type {\n",
       "        vertical-align: middle;\n",
       "    }\n",
       "\n",
       "    .dataframe tbody tr th {\n",
       "        vertical-align: top;\n",
       "    }\n",
       "\n",
       "    .dataframe thead th {\n",
       "        text-align: right;\n",
       "    }\n",
       "</style>\n",
       "<table border=\"1\" class=\"dataframe\">\n",
       "  <thead>\n",
       "    <tr style=\"text-align: right;\">\n",
       "      <th></th>\n",
       "      <th>round_winner</th>\n",
       "      <th>round_winner_encoded</th>\n",
       "      <th>map</th>\n",
       "      <th>map_encoded</th>\n",
       "    </tr>\n",
       "  </thead>\n",
       "  <tbody>\n",
       "    <tr>\n",
       "      <th>0</th>\n",
       "      <td>CT</td>\n",
       "      <td>0</td>\n",
       "      <td>de_dust2</td>\n",
       "      <td>1</td>\n",
       "    </tr>\n",
       "    <tr>\n",
       "      <th>1</th>\n",
       "      <td>CT</td>\n",
       "      <td>0</td>\n",
       "      <td>de_dust2</td>\n",
       "      <td>1</td>\n",
       "    </tr>\n",
       "    <tr>\n",
       "      <th>2</th>\n",
       "      <td>CT</td>\n",
       "      <td>0</td>\n",
       "      <td>de_dust2</td>\n",
       "      <td>1</td>\n",
       "    </tr>\n",
       "    <tr>\n",
       "      <th>3</th>\n",
       "      <td>CT</td>\n",
       "      <td>0</td>\n",
       "      <td>de_dust2</td>\n",
       "      <td>1</td>\n",
       "    </tr>\n",
       "    <tr>\n",
       "      <th>4</th>\n",
       "      <td>CT</td>\n",
       "      <td>0</td>\n",
       "      <td>de_dust2</td>\n",
       "      <td>1</td>\n",
       "    </tr>\n",
       "    <tr>\n",
       "      <th>...</th>\n",
       "      <td>...</td>\n",
       "      <td>...</td>\n",
       "      <td>...</td>\n",
       "      <td>...</td>\n",
       "    </tr>\n",
       "    <tr>\n",
       "      <th>122405</th>\n",
       "      <td>T</td>\n",
       "      <td>1</td>\n",
       "      <td>de_train</td>\n",
       "      <td>6</td>\n",
       "    </tr>\n",
       "    <tr>\n",
       "      <th>122406</th>\n",
       "      <td>T</td>\n",
       "      <td>1</td>\n",
       "      <td>de_train</td>\n",
       "      <td>6</td>\n",
       "    </tr>\n",
       "    <tr>\n",
       "      <th>122407</th>\n",
       "      <td>T</td>\n",
       "      <td>1</td>\n",
       "      <td>de_train</td>\n",
       "      <td>6</td>\n",
       "    </tr>\n",
       "    <tr>\n",
       "      <th>122408</th>\n",
       "      <td>T</td>\n",
       "      <td>1</td>\n",
       "      <td>de_train</td>\n",
       "      <td>6</td>\n",
       "    </tr>\n",
       "    <tr>\n",
       "      <th>122409</th>\n",
       "      <td>T</td>\n",
       "      <td>1</td>\n",
       "      <td>de_train</td>\n",
       "      <td>6</td>\n",
       "    </tr>\n",
       "  </tbody>\n",
       "</table>\n",
       "<p>122410 rows × 4 columns</p>\n",
       "</div>"
      ],
      "text/plain": [
       "       round_winner  round_winner_encoded       map  map_encoded\n",
       "0                CT                     0  de_dust2            1\n",
       "1                CT                     0  de_dust2            1\n",
       "2                CT                     0  de_dust2            1\n",
       "3                CT                     0  de_dust2            1\n",
       "4                CT                     0  de_dust2            1\n",
       "...             ...                   ...       ...          ...\n",
       "122405            T                     1  de_train            6\n",
       "122406            T                     1  de_train            6\n",
       "122407            T                     1  de_train            6\n",
       "122408            T                     1  de_train            6\n",
       "122409            T                     1  de_train            6\n",
       "\n",
       "[122410 rows x 4 columns]"
      ]
     },
     "execution_count": 13,
     "metadata": {},
     "output_type": "execute_result"
    }
   ],
   "source": [
    "df[['round_winner','round_winner_encoded','map','map_encoded']]"
   ]
  },
  {
   "cell_type": "code",
   "execution_count": 14,
   "metadata": {},
   "outputs": [],
   "source": [
    "df = df.drop(columns=['round_winner','map']) # remover as variaveis categoricas pós conversão"
   ]
  },
  {
   "cell_type": "code",
   "execution_count": 15,
   "metadata": {},
   "outputs": [],
   "source": [
    "x = df.drop(\"round_winner_encoded\", axis=1) # separa todos os regressores\n",
    "y = df.round_winner_encoded # isola a classe"
   ]
  },
  {
   "cell_type": "markdown",
   "metadata": {},
   "source": [
    "#### O dataset tem valores em escalas muito diferentes, portanto é necessario padronizar essas escalas, para que nao interfira no desempenho do modelo"
   ]
  },
  {
   "cell_type": "code",
   "execution_count": 16,
   "metadata": {},
   "outputs": [],
   "source": [
    "scaler = StandardScaler() # instanciar o padronizador de escala\n",
    "\n",
    "x_scaled = scaler.fit_transform(x) # realizar a transformação"
   ]
  },
  {
   "cell_type": "code",
   "execution_count": 17,
   "metadata": {},
   "outputs": [
    {
     "data": {
      "text/plain": [
       "array([[ 1.41582771, -1.40057607, -1.40570151, ..., -0.16335636,\n",
       "        -0.15685461, -1.30640985],\n",
       "       [ 1.06753073, -1.40057607, -1.40570151, ..., -0.16335636,\n",
       "        -0.15685461, -1.30640985],\n",
       "       [-0.03409385, -1.40057607, -1.40570151, ..., -0.16335636,\n",
       "        -0.15685461, -1.30640985],\n",
       "       ...,\n",
       "       [ 0.31291789,  0.89571055,  1.70405824, ..., -0.16335636,\n",
       "        -0.15685461,  1.28549842],\n",
       "       [-0.0542903 ,  0.89571055,  1.70405824, ..., -0.16335636,\n",
       "        -0.15685461,  1.28549842],\n",
       "       [-0.4214985 ,  0.89571055,  1.70405824, ..., -0.16335636,\n",
       "        -0.15685461,  1.28549842]])"
      ]
     },
     "execution_count": 17,
     "metadata": {},
     "output_type": "execute_result"
    }
   ],
   "source": [
    "x_scaled # o transformador retorna um array, portanto é necessario transformar em um dataframe novamente"
   ]
  },
  {
   "cell_type": "code",
   "execution_count": 18,
   "metadata": {},
   "outputs": [
    {
     "data": {
      "text/html": [
       "<div>\n",
       "<style scoped>\n",
       "    .dataframe tbody tr th:only-of-type {\n",
       "        vertical-align: middle;\n",
       "    }\n",
       "\n",
       "    .dataframe tbody tr th {\n",
       "        vertical-align: top;\n",
       "    }\n",
       "\n",
       "    .dataframe thead th {\n",
       "        text-align: right;\n",
       "    }\n",
       "</style>\n",
       "<table border=\"1\" class=\"dataframe\">\n",
       "  <thead>\n",
       "    <tr style=\"text-align: right;\">\n",
       "      <th></th>\n",
       "      <th>time_left</th>\n",
       "      <th>ct_score</th>\n",
       "      <th>t_score</th>\n",
       "      <th>bomb_planted</th>\n",
       "      <th>ct_health</th>\n",
       "      <th>t_health</th>\n",
       "      <th>ct_armor</th>\n",
       "      <th>t_armor</th>\n",
       "      <th>ct_money</th>\n",
       "      <th>t_money</th>\n",
       "      <th>...</th>\n",
       "      <th>t_grenade_flashbang</th>\n",
       "      <th>ct_grenade_smokegrenade</th>\n",
       "      <th>t_grenade_smokegrenade</th>\n",
       "      <th>ct_grenade_incendiarygrenade</th>\n",
       "      <th>t_grenade_incendiarygrenade</th>\n",
       "      <th>ct_grenade_molotovgrenade</th>\n",
       "      <th>t_grenade_molotovgrenade</th>\n",
       "      <th>ct_grenade_decoygrenade</th>\n",
       "      <th>t_grenade_decoygrenade</th>\n",
       "      <th>map_encoded</th>\n",
       "    </tr>\n",
       "  </thead>\n",
       "  <tbody>\n",
       "    <tr>\n",
       "      <th>0</th>\n",
       "      <td>1.415828</td>\n",
       "      <td>-1.400576</td>\n",
       "      <td>-1.405702</td>\n",
       "      <td>-0.354764</td>\n",
       "      <td>0.664386</td>\n",
       "      <td>0.695301</td>\n",
       "      <td>-1.836777</td>\n",
       "      <td>-1.709542</td>\n",
       "      <td>-0.516186</td>\n",
       "      <td>-0.595345</td>\n",
       "      <td>...</td>\n",
       "      <td>-1.035461</td>\n",
       "      <td>-0.886648</td>\n",
       "      <td>-0.889569</td>\n",
       "      <td>-0.687185</td>\n",
       "      <td>-0.137694</td>\n",
       "      <td>-0.210881</td>\n",
       "      <td>-0.812929</td>\n",
       "      <td>-0.163356</td>\n",
       "      <td>-0.156855</td>\n",
       "      <td>-1.306410</td>\n",
       "    </tr>\n",
       "    <tr>\n",
       "      <th>1</th>\n",
       "      <td>1.067531</td>\n",
       "      <td>-1.400576</td>\n",
       "      <td>-1.405702</td>\n",
       "      <td>-0.354764</td>\n",
       "      <td>0.664386</td>\n",
       "      <td>0.695301</td>\n",
       "      <td>0.502008</td>\n",
       "      <td>0.008909</td>\n",
       "      <td>-0.819351</td>\n",
       "      <td>-0.870776</td>\n",
       "      <td>...</td>\n",
       "      <td>-1.035461</td>\n",
       "      <td>-0.886648</td>\n",
       "      <td>0.203841</td>\n",
       "      <td>-0.687185</td>\n",
       "      <td>-0.137694</td>\n",
       "      <td>-0.210881</td>\n",
       "      <td>-0.812929</td>\n",
       "      <td>-0.163356</td>\n",
       "      <td>-0.156855</td>\n",
       "      <td>-1.306410</td>\n",
       "    </tr>\n",
       "    <tr>\n",
       "      <th>2</th>\n",
       "      <td>-0.034094</td>\n",
       "      <td>-1.400576</td>\n",
       "      <td>-1.405702</td>\n",
       "      <td>-0.354764</td>\n",
       "      <td>-0.159544</td>\n",
       "      <td>-0.019401</td>\n",
       "      <td>-0.117770</td>\n",
       "      <td>-0.563908</td>\n",
       "      <td>-0.805977</td>\n",
       "      <td>-0.883109</td>\n",
       "      <td>...</td>\n",
       "      <td>-1.035461</td>\n",
       "      <td>-0.886648</td>\n",
       "      <td>0.203841</td>\n",
       "      <td>-0.687185</td>\n",
       "      <td>-0.137694</td>\n",
       "      <td>-0.210881</td>\n",
       "      <td>-0.812929</td>\n",
       "      <td>-0.163356</td>\n",
       "      <td>-0.156855</td>\n",
       "      <td>-1.306410</td>\n",
       "    </tr>\n",
       "    <tr>\n",
       "      <th>3</th>\n",
       "      <td>-0.401302</td>\n",
       "      <td>-1.400576</td>\n",
       "      <td>-1.405702</td>\n",
       "      <td>-0.354764</td>\n",
       "      <td>-0.159544</td>\n",
       "      <td>-0.019401</td>\n",
       "      <td>-0.117770</td>\n",
       "      <td>-0.563908</td>\n",
       "      <td>-0.805977</td>\n",
       "      <td>-0.883109</td>\n",
       "      <td>...</td>\n",
       "      <td>-1.035461</td>\n",
       "      <td>-0.886648</td>\n",
       "      <td>-0.889569</td>\n",
       "      <td>-0.687185</td>\n",
       "      <td>-0.137694</td>\n",
       "      <td>-0.210881</td>\n",
       "      <td>-0.812929</td>\n",
       "      <td>-0.163356</td>\n",
       "      <td>-0.156855</td>\n",
       "      <td>-1.306410</td>\n",
       "    </tr>\n",
       "    <tr>\n",
       "      <th>4</th>\n",
       "      <td>1.415277</td>\n",
       "      <td>-1.191823</td>\n",
       "      <td>-1.405702</td>\n",
       "      <td>-0.354764</td>\n",
       "      <td>0.664386</td>\n",
       "      <td>0.695301</td>\n",
       "      <td>-0.714160</td>\n",
       "      <td>-1.709542</td>\n",
       "      <td>0.763351</td>\n",
       "      <td>-0.040372</td>\n",
       "      <td>...</td>\n",
       "      <td>-1.035461</td>\n",
       "      <td>-0.886648</td>\n",
       "      <td>-0.889569</td>\n",
       "      <td>-0.687185</td>\n",
       "      <td>-0.137694</td>\n",
       "      <td>-0.210881</td>\n",
       "      <td>-0.812929</td>\n",
       "      <td>-0.163356</td>\n",
       "      <td>-0.156855</td>\n",
       "      <td>-1.306410</td>\n",
       "    </tr>\n",
       "    <tr>\n",
       "      <th>...</th>\n",
       "      <td>...</td>\n",
       "      <td>...</td>\n",
       "      <td>...</td>\n",
       "      <td>...</td>\n",
       "      <td>...</td>\n",
       "      <td>...</td>\n",
       "      <td>...</td>\n",
       "      <td>...</td>\n",
       "      <td>...</td>\n",
       "      <td>...</td>\n",
       "      <td>...</td>\n",
       "      <td>...</td>\n",
       "      <td>...</td>\n",
       "      <td>...</td>\n",
       "      <td>...</td>\n",
       "      <td>...</td>\n",
       "      <td>...</td>\n",
       "      <td>...</td>\n",
       "      <td>...</td>\n",
       "      <td>...</td>\n",
       "      <td>...</td>\n",
       "    </tr>\n",
       "    <tr>\n",
       "      <th>122405</th>\n",
       "      <td>-1.514310</td>\n",
       "      <td>0.895711</td>\n",
       "      <td>1.496741</td>\n",
       "      <td>2.818773</td>\n",
       "      <td>-1.603312</td>\n",
       "      <td>-1.148630</td>\n",
       "      <td>-0.696619</td>\n",
       "      <td>0.346871</td>\n",
       "      <td>-0.863935</td>\n",
       "      <td>-0.435020</td>\n",
       "      <td>...</td>\n",
       "      <td>0.079077</td>\n",
       "      <td>-0.311206</td>\n",
       "      <td>-0.342864</td>\n",
       "      <td>-0.687185</td>\n",
       "      <td>-0.137694</td>\n",
       "      <td>-0.210881</td>\n",
       "      <td>-0.812929</td>\n",
       "      <td>-0.163356</td>\n",
       "      <td>-0.156855</td>\n",
       "      <td>1.285498</td>\n",
       "    </tr>\n",
       "    <tr>\n",
       "      <th>122406</th>\n",
       "      <td>1.414542</td>\n",
       "      <td>0.895711</td>\n",
       "      <td>1.704058</td>\n",
       "      <td>-0.354764</td>\n",
       "      <td>0.664386</td>\n",
       "      <td>0.695301</td>\n",
       "      <td>-1.281315</td>\n",
       "      <td>-0.707112</td>\n",
       "      <td>0.152561</td>\n",
       "      <td>1.040797</td>\n",
       "      <td>...</td>\n",
       "      <td>0.079077</td>\n",
       "      <td>-0.311206</td>\n",
       "      <td>-0.889569</td>\n",
       "      <td>-0.687185</td>\n",
       "      <td>-0.137694</td>\n",
       "      <td>-0.210881</td>\n",
       "      <td>-0.812929</td>\n",
       "      <td>-0.163356</td>\n",
       "      <td>-0.156855</td>\n",
       "      <td>1.285498</td>\n",
       "    </tr>\n",
       "    <tr>\n",
       "      <th>122407</th>\n",
       "      <td>0.312918</td>\n",
       "      <td>0.895711</td>\n",
       "      <td>1.704058</td>\n",
       "      <td>-0.354764</td>\n",
       "      <td>0.664386</td>\n",
       "      <td>0.695301</td>\n",
       "      <td>1.057469</td>\n",
       "      <td>1.011339</td>\n",
       "      <td>-0.765852</td>\n",
       "      <td>-0.373356</td>\n",
       "      <td>...</td>\n",
       "      <td>1.193615</td>\n",
       "      <td>0.839676</td>\n",
       "      <td>1.843956</td>\n",
       "      <td>-0.001350</td>\n",
       "      <td>-0.137694</td>\n",
       "      <td>-0.210881</td>\n",
       "      <td>2.193253</td>\n",
       "      <td>-0.163356</td>\n",
       "      <td>-0.156855</td>\n",
       "      <td>1.285498</td>\n",
       "    </tr>\n",
       "    <tr>\n",
       "      <th>122408</th>\n",
       "      <td>-0.054290</td>\n",
       "      <td>0.895711</td>\n",
       "      <td>1.704058</td>\n",
       "      <td>-0.354764</td>\n",
       "      <td>0.664386</td>\n",
       "      <td>0.695301</td>\n",
       "      <td>1.057469</td>\n",
       "      <td>1.011339</td>\n",
       "      <td>-0.765852</td>\n",
       "      <td>-0.373356</td>\n",
       "      <td>...</td>\n",
       "      <td>1.750884</td>\n",
       "      <td>-0.886648</td>\n",
       "      <td>0.750546</td>\n",
       "      <td>-0.687185</td>\n",
       "      <td>-0.137694</td>\n",
       "      <td>-0.210881</td>\n",
       "      <td>1.592017</td>\n",
       "      <td>-0.163356</td>\n",
       "      <td>-0.156855</td>\n",
       "      <td>1.285498</td>\n",
       "    </tr>\n",
       "    <tr>\n",
       "      <th>122409</th>\n",
       "      <td>-0.421498</td>\n",
       "      <td>0.895711</td>\n",
       "      <td>1.704058</td>\n",
       "      <td>-0.354764</td>\n",
       "      <td>-0.280488</td>\n",
       "      <td>0.545214</td>\n",
       "      <td>0.472773</td>\n",
       "      <td>0.959785</td>\n",
       "      <td>-0.774768</td>\n",
       "      <td>-0.348690</td>\n",
       "      <td>...</td>\n",
       "      <td>0.636346</td>\n",
       "      <td>-0.886648</td>\n",
       "      <td>0.203841</td>\n",
       "      <td>-0.687185</td>\n",
       "      <td>-0.137694</td>\n",
       "      <td>-0.210881</td>\n",
       "      <td>0.990780</td>\n",
       "      <td>-0.163356</td>\n",
       "      <td>-0.156855</td>\n",
       "      <td>1.285498</td>\n",
       "    </tr>\n",
       "  </tbody>\n",
       "</table>\n",
       "<p>122410 rows × 96 columns</p>\n",
       "</div>"
      ],
      "text/plain": [
       "        time_left  ct_score   t_score  bomb_planted  ct_health  t_health  \\\n",
       "0        1.415828 -1.400576 -1.405702     -0.354764   0.664386  0.695301   \n",
       "1        1.067531 -1.400576 -1.405702     -0.354764   0.664386  0.695301   \n",
       "2       -0.034094 -1.400576 -1.405702     -0.354764  -0.159544 -0.019401   \n",
       "3       -0.401302 -1.400576 -1.405702     -0.354764  -0.159544 -0.019401   \n",
       "4        1.415277 -1.191823 -1.405702     -0.354764   0.664386  0.695301   \n",
       "...           ...       ...       ...           ...        ...       ...   \n",
       "122405  -1.514310  0.895711  1.496741      2.818773  -1.603312 -1.148630   \n",
       "122406   1.414542  0.895711  1.704058     -0.354764   0.664386  0.695301   \n",
       "122407   0.312918  0.895711  1.704058     -0.354764   0.664386  0.695301   \n",
       "122408  -0.054290  0.895711  1.704058     -0.354764   0.664386  0.695301   \n",
       "122409  -0.421498  0.895711  1.704058     -0.354764  -0.280488  0.545214   \n",
       "\n",
       "        ct_armor   t_armor  ct_money   t_money  ...  t_grenade_flashbang  \\\n",
       "0      -1.836777 -1.709542 -0.516186 -0.595345  ...            -1.035461   \n",
       "1       0.502008  0.008909 -0.819351 -0.870776  ...            -1.035461   \n",
       "2      -0.117770 -0.563908 -0.805977 -0.883109  ...            -1.035461   \n",
       "3      -0.117770 -0.563908 -0.805977 -0.883109  ...            -1.035461   \n",
       "4      -0.714160 -1.709542  0.763351 -0.040372  ...            -1.035461   \n",
       "...          ...       ...       ...       ...  ...                  ...   \n",
       "122405 -0.696619  0.346871 -0.863935 -0.435020  ...             0.079077   \n",
       "122406 -1.281315 -0.707112  0.152561  1.040797  ...             0.079077   \n",
       "122407  1.057469  1.011339 -0.765852 -0.373356  ...             1.193615   \n",
       "122408  1.057469  1.011339 -0.765852 -0.373356  ...             1.750884   \n",
       "122409  0.472773  0.959785 -0.774768 -0.348690  ...             0.636346   \n",
       "\n",
       "        ct_grenade_smokegrenade  t_grenade_smokegrenade  \\\n",
       "0                     -0.886648               -0.889569   \n",
       "1                     -0.886648                0.203841   \n",
       "2                     -0.886648                0.203841   \n",
       "3                     -0.886648               -0.889569   \n",
       "4                     -0.886648               -0.889569   \n",
       "...                         ...                     ...   \n",
       "122405                -0.311206               -0.342864   \n",
       "122406                -0.311206               -0.889569   \n",
       "122407                 0.839676                1.843956   \n",
       "122408                -0.886648                0.750546   \n",
       "122409                -0.886648                0.203841   \n",
       "\n",
       "        ct_grenade_incendiarygrenade  t_grenade_incendiarygrenade  \\\n",
       "0                          -0.687185                    -0.137694   \n",
       "1                          -0.687185                    -0.137694   \n",
       "2                          -0.687185                    -0.137694   \n",
       "3                          -0.687185                    -0.137694   \n",
       "4                          -0.687185                    -0.137694   \n",
       "...                              ...                          ...   \n",
       "122405                     -0.687185                    -0.137694   \n",
       "122406                     -0.687185                    -0.137694   \n",
       "122407                     -0.001350                    -0.137694   \n",
       "122408                     -0.687185                    -0.137694   \n",
       "122409                     -0.687185                    -0.137694   \n",
       "\n",
       "        ct_grenade_molotovgrenade  t_grenade_molotovgrenade  \\\n",
       "0                       -0.210881                 -0.812929   \n",
       "1                       -0.210881                 -0.812929   \n",
       "2                       -0.210881                 -0.812929   \n",
       "3                       -0.210881                 -0.812929   \n",
       "4                       -0.210881                 -0.812929   \n",
       "...                           ...                       ...   \n",
       "122405                  -0.210881                 -0.812929   \n",
       "122406                  -0.210881                 -0.812929   \n",
       "122407                  -0.210881                  2.193253   \n",
       "122408                  -0.210881                  1.592017   \n",
       "122409                  -0.210881                  0.990780   \n",
       "\n",
       "        ct_grenade_decoygrenade  t_grenade_decoygrenade  map_encoded  \n",
       "0                     -0.163356               -0.156855    -1.306410  \n",
       "1                     -0.163356               -0.156855    -1.306410  \n",
       "2                     -0.163356               -0.156855    -1.306410  \n",
       "3                     -0.163356               -0.156855    -1.306410  \n",
       "4                     -0.163356               -0.156855    -1.306410  \n",
       "...                         ...                     ...          ...  \n",
       "122405                -0.163356               -0.156855     1.285498  \n",
       "122406                -0.163356               -0.156855     1.285498  \n",
       "122407                -0.163356               -0.156855     1.285498  \n",
       "122408                -0.163356               -0.156855     1.285498  \n",
       "122409                -0.163356               -0.156855     1.285498  \n",
       "\n",
       "[122410 rows x 96 columns]"
      ]
     },
     "execution_count": 18,
     "metadata": {},
     "output_type": "execute_result"
    }
   ],
   "source": [
    "x_scaled = pd.DataFrame(x_scaled,columns=(x.columns))\n",
    "x_scaled"
   ]
  },
  {
   "cell_type": "markdown",
   "metadata": {},
   "source": [
    "#### separando os dados de treino e teste efetivamente"
   ]
  },
  {
   "cell_type": "code",
   "execution_count": 19,
   "metadata": {},
   "outputs": [],
   "source": [
    "# separar o modelo em treino e teste, com 30% para treino\n",
    "\n",
    "x_train, x_test, y_train, y_test = train_test_split(x_scaled,y,test_size=0.3,random_state=1)"
   ]
  },
  {
   "cell_type": "markdown",
   "metadata": {},
   "source": [
    "### implementação do modelo"
   ]
  },
  {
   "cell_type": "code",
   "execution_count": 20,
   "metadata": {},
   "outputs": [],
   "source": [
    "from sklearn.linear_model import LogisticRegression"
   ]
  },
  {
   "cell_type": "code",
   "execution_count": 21,
   "metadata": {},
   "outputs": [],
   "source": [
    "modelo = LogisticRegression() # instanciar o modelo\n",
    "\n",
    "modelo.fit(x_train,y_train)\n",
    "\n",
    "y_pred = modelo.predict(x_test)"
   ]
  },
  {
   "cell_type": "code",
   "execution_count": 22,
   "metadata": {},
   "outputs": [
    {
     "data": {
      "text/plain": [
       "array([1, 0, 1, ..., 0, 1, 1])"
      ]
     },
     "execution_count": 22,
     "metadata": {},
     "output_type": "execute_result"
    }
   ],
   "source": [
    "y_pred"
   ]
  },
  {
   "cell_type": "markdown",
   "metadata": {},
   "source": [
    "### Avaliando o modelo"
   ]
  },
  {
   "cell_type": "code",
   "execution_count": 23,
   "metadata": {},
   "outputs": [],
   "source": [
    "from sklearn.metrics import accuracy_score,f1_score,confusion_matrix # as metricas mais comuns"
   ]
  },
  {
   "cell_type": "code",
   "execution_count": 24,
   "metadata": {},
   "outputs": [
    {
     "name": "stdout",
     "output_type": "stream",
     "text": [
      "acuracia do modelo foi de: 75.0156577621654 %\n",
      "f1 score do modelo foi de: 75.19666946013895 %\n"
     ]
    }
   ],
   "source": [
    "print('acuracia do modelo foi de: ' + str((accuracy_score(y_test,y_pred)*100))+' %')\n",
    "print('f1 score do modelo foi de: ' + str((f1_score(y_test,y_pred)*100))+' %')\n",
    "\n",
    "cm = confusion_matrix(y_test,y_pred)"
   ]
  },
  {
   "cell_type": "code",
   "execution_count": 25,
   "metadata": {},
   "outputs": [
    {
     "data": {
      "text/plain": [
       "array([[13640,  4389],\n",
       "       [ 4786, 13908]], dtype=int64)"
      ]
     },
     "execution_count": 25,
     "metadata": {},
     "output_type": "execute_result"
    }
   ],
   "source": [
    "cm # plotando a matriz de confusão"
   ]
  },
  {
   "cell_type": "markdown",
   "metadata": {},
   "source": [
    "### Conclusão\n",
    "\n",
    "A partir dos resultados da matriz de confusão e da acuracia e f1 em torno de 75%, podemos concluir que o modelo esta bem balanceado, sem viés e com boa precisao e recall"
   ]
  }
 ],
 "metadata": {
  "kernelspec": {
   "display_name": "Python 3",
   "language": "python",
   "name": "python3"
  },
  "language_info": {
   "codemirror_mode": {
    "name": "ipython",
    "version": 3
   },
   "file_extension": ".py",
   "mimetype": "text/x-python",
   "name": "python",
   "nbconvert_exporter": "python",
   "pygments_lexer": "ipython3",
   "version": "3.12.7"
  }
 },
 "nbformat": 4,
 "nbformat_minor": 2
}
